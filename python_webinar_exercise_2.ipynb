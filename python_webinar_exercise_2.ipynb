{
 "cells": [
  {
   "cell_type": "markdown",
   "metadata": {},
   "source": [
    "1. Buatlah program untuk mengecek apakah suatu tahun adalah tahun kabisat atau tidak. Jika tahun kabisat, maka tahun dapat dibagi dengan 4, untuk tahun dengan akhiran '00' maka harus bisa dibagi dengan 400."
   ]
  },
  {
   "cell_type": "code",
   "execution_count": null,
   "metadata": {},
   "outputs": [],
   "source": [
    "#input\n",
    "tahun_1 = 2000\n",
    "tahun_2 = 2013\n",
    "tahun_3 = 2020"
   ]
  },
  {
   "cell_type": "markdown",
   "metadata": {},
   "source": [
    "2. Buatlah program untuk mencari barang apakah yang paling termahal\n",
    "\n",
    "    * Input: \n",
    "    ```\n",
    "        laptop = 10000000 \n",
    "        mouse = 250000 \n",
    "        kopi = 30000\n",
    "    ```\n",
    "    * Output:\n",
    "        ```\n",
    "        Barang yang termahal adalah Laptop\n",
    "        ```"
   ]
  },
  {
   "cell_type": "code",
   "execution_count": null,
   "metadata": {},
   "outputs": [],
   "source": [
    "#input\n",
    "laptop = 10000000 \n",
    "mouse = 250000 \n",
    "kopi = 30000"
   ]
  },
  {
   "cell_type": "markdown",
   "metadata": {},
   "source": [
    "3. Buatlah program sederhana untuk mendeteksi kadar tekanan udara dengan ketentuan sebagai berikut:\n",
    "\n",
    "* Jika tekanan dibawah 20 N, maka tampilkan \"Aman\"\n",
    "* Jika tekanan diantara 20 - 59 N, maka tampilkan \"Gawat\".\n",
    "* Jika tekanan diatas 59 N, maka tampilkan \"Bahaya\".\n",
    "\n",
    "Gunakan built-in function untuk memasukan input!"
   ]
  },
  {
   "cell_type": "code",
   "execution_count": null,
   "metadata": {},
   "outputs": [],
   "source": []
  },
  {
   "cell_type": "markdown",
   "metadata": {},
   "source": [
    "4. Buatlah program untuk memunculkan angka ganjil dari 90 sampai 30 menurun!"
   ]
  },
  {
   "cell_type": "code",
   "execution_count": null,
   "metadata": {},
   "outputs": [],
   "source": []
  },
  {
   "cell_type": "markdown",
   "metadata": {},
   "source": [
    "5. Buatlah program untuk memunculkan angka kelipatan 5 dari 20 sampai 200!"
   ]
  },
  {
   "cell_type": "code",
   "execution_count": null,
   "metadata": {},
   "outputs": [],
   "source": []
  },
  {
   "cell_type": "markdown",
   "metadata": {},
   "source": [
    "6. Buatlah program untuk memunculkan bilangan faktorial n! dengan n sebagai input\n",
    "\n",
    "Hint: Gunakan for looping dan operator perkalian"
   ]
  },
  {
   "cell_type": "code",
   "execution_count": null,
   "metadata": {},
   "outputs": [],
   "source": []
  },
  {
   "cell_type": "markdown",
   "metadata": {},
   "source": [
    "7. Buatlah program untuk memunculkan angka 1 sampai 20 namun dengan syarat angka genap dihilangkan!"
   ]
  },
  {
   "cell_type": "code",
   "execution_count": null,
   "metadata": {},
   "outputs": [],
   "source": []
  }
 ],
 "metadata": {
  "kernelspec": {
   "display_name": "Python 3",
   "language": "python",
   "name": "python3"
  },
  "language_info": {
   "codemirror_mode": {
    "name": "ipython",
    "version": 3
   },
   "file_extension": ".py",
   "mimetype": "text/x-python",
   "name": "python",
   "nbconvert_exporter": "python",
   "pygments_lexer": "ipython3",
   "version": "3.8.5"
  }
 },
 "nbformat": 4,
 "nbformat_minor": 4
}
