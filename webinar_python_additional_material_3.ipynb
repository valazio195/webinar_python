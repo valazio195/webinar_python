{
 "cells": [
  {
   "cell_type": "markdown",
   "metadata": {},
   "source": [
    "## Override Technique"
   ]
  },
  {
   "cell_type": "markdown",
   "metadata": {},
   "source": [
    "Bagaimana jika kita ingin mendefinisikan metode yang mirip dengan metode parent class di children class, namun dengan hasil yang berbeda/sesuai dengan kebutuhan?\n",
    "\n",
    "Gunakan teknik Override pada Children Class yang dimaksud!"
   ]
  },
  {
   "cell_type": "code",
   "execution_count": 1,
   "metadata": {},
   "outputs": [],
   "source": [
    "#Misalkan Parent Class kita ini adalah Class Animal\n",
    "\n",
    "class Animal:\n",
    "    def __init__(self, name):\n",
    "        self.name = name\n",
    "    \n",
    "    def __str__(self):\n",
    "        return \"Name of Animal: \" + self.name\n",
    "    \n",
    "    def walk(self):\n",
    "        print(f\"{self.nama} is walking.\")"
   ]
  },
  {
   "cell_type": "markdown",
   "metadata": {},
   "source": [
    "Kita ingin mengganti hasil dari metode walk pada class Fish menjadi 'Swim', maka lakukan teknik Override pada!"
   ]
  },
  {
   "cell_type": "code",
   "execution_count": null,
   "metadata": {},
   "outputs": [],
   "source": [
    "class Fish(Animal):\n",
    "    def __init__(self, name, age):\n",
    "        Animal.__init__(self, name)\n",
    "    \n",
    "    def walk(self):\n",
    "        print(f\"{self.name} is swimming, he can't walk!\")\n",
    "        "
   ]
  }
 ],
 "metadata": {
  "kernelspec": {
   "display_name": "Python 3",
   "language": "python",
   "name": "python3"
  },
  "language_info": {
   "codemirror_mode": {
    "name": "ipython",
    "version": 3
   },
   "file_extension": ".py",
   "mimetype": "text/x-python",
   "name": "python",
   "nbconvert_exporter": "python",
   "pygments_lexer": "ipython3",
   "version": "3.8.5"
  }
 },
 "nbformat": 4,
 "nbformat_minor": 4
}
