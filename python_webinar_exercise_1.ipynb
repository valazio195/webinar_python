{
 "cells": [
  {
   "cell_type": "markdown",
   "metadata": {},
   "source": [
    "# EXERCISE"
   ]
  },
  {
   "cell_type": "markdown",
   "metadata": {},
   "source": [
    "### 1. Print kata 'Selamat Datang'"
   ]
  },
  {
   "cell_type": "code",
   "execution_count": 1,
   "metadata": {},
   "outputs": [
    {
     "name": "stdout",
     "output_type": "stream",
     "text": [
      "Selamat Datang\n"
     ]
    }
   ],
   "source": []
  },
  {
   "cell_type": "markdown",
   "metadata": {},
   "source": [
    "### 2. Masukan jawaban no.1 sebagai variable dan tambahkan dengan nama anda sehingga outputnya menjadi 'Selamat Datang {isi dengan nama anda\n",
    "\n",
    "### Note: Harus memakai operator, jangan langsung menulis jawaban sebagai print('Selamat Datang {nama anda}')"
   ]
  },
  {
   "cell_type": "code",
   "execution_count": 4,
   "metadata": {},
   "outputs": [
    {
     "data": {
      "text/plain": [
       "'Selamat Datang Irham'"
      ]
     },
     "execution_count": 4,
     "metadata": {},
     "output_type": "execute_result"
    }
   ],
   "source": []
  },
  {
   "cell_type": "markdown",
   "metadata": {},
   "source": [
    "### 3. Ubahlah tipe data dibawah ini menjadi bentuk integer!"
   ]
  },
  {
   "cell_type": "code",
   "execution_count": 5,
   "metadata": {},
   "outputs": [
    {
     "name": "stdout",
     "output_type": "stream",
     "text": [
      "<class 'str'>\n"
     ]
    }
   ],
   "source": [
    "a = '1000'\n",
    "\n",
    "print(type(a))"
   ]
  },
  {
   "cell_type": "markdown",
   "metadata": {},
   "source": [
    "### 4. Bunga sedang merekapitulasi hasil penjualan bisnisnya selama 1 bulan dengan data terlampir dibawah. Dalam 1 bulan, Bungan berhasil menjual 3 papan catur, 2 gitar, 4 Mouse dan 5 Kacamata. Tuliskan total penjualan yang sudah dikumpulkan oleh Bunga sebagai operasi matematika dan jalankan outputnya!"
   ]
  },
  {
   "cell_type": "markdown",
   "metadata": {},
   "source": [
    "| barang      | sales  |\n",
    "|-------------|--------|\n",
    "| papan catur        | 50000  |\n",
    "| gitar | 400000 |\n",
    "| mouse | 200000  |\n",
    "| kaca mata        | 150000  |"
   ]
  },
  {
   "cell_type": "code",
   "execution_count": null,
   "metadata": {},
   "outputs": [],
   "source": []
  },
  {
   "cell_type": "markdown",
   "metadata": {},
   "source": [
    "### 5. Terlampir suatu variable string dibawah ini"
   ]
  },
  {
   "cell_type": "code",
   "execution_count": 13,
   "metadata": {},
   "outputs": [],
   "source": [
    "kata = 'abrakAdabra'"
   ]
  },
  {
   "cell_type": "markdown",
   "metadata": {},
   "source": [
    "### Memakai teknik indexing, buatlah variable baru dengan hasil outputnya ialah huruf pertama dari variable 'kata'"
   ]
  },
  {
   "cell_type": "code",
   "execution_count": null,
   "metadata": {},
   "outputs": [],
   "source": []
  },
  {
   "cell_type": "markdown",
   "metadata": {},
   "source": [
    "### Buatlah variable baru dengan hasil outputnya ialah 5 huruf pertama dari variable 'kata'\n"
   ]
  },
  {
   "cell_type": "code",
   "execution_count": null,
   "metadata": {},
   "outputs": [],
   "source": []
  },
  {
   "cell_type": "markdown",
   "metadata": {},
   "source": [
    "### Buatlah variable baru dengan hasil outputnya ialah 4 huruf terakhir dari variable 'kata'"
   ]
  },
  {
   "cell_type": "code",
   "execution_count": null,
   "metadata": {},
   "outputs": [],
   "source": []
  },
  {
   "cell_type": "markdown",
   "metadata": {},
   "source": [
    "### Buatlah variable baru dengan hasil outputnya ialah huruf tengah dari variable 'kata'"
   ]
  },
  {
   "cell_type": "code",
   "execution_count": null,
   "metadata": {},
   "outputs": [],
   "source": []
  },
  {
   "cell_type": "markdown",
   "metadata": {},
   "source": [
    "### 6. Raditya sedang menginputkan nama lengkapnya dalam situs pencarian jodoh didalam variable 'name'. Namun, tanpa sadar dia salah mengetikan namanya menjadi 'raditA SAntoso'  . Dia ingin mengoreksi namanya menjadi 'Raditya Santoso'. Tuliskanlah program untuk mengoreksi nama Raditya dengan benar agar dia bisa mendapatkan jodoh secepatnya"
   ]
  },
  {
   "cell_type": "code",
   "execution_count": null,
   "metadata": {},
   "outputs": [],
   "source": [
    "name = 'Raditya Santoso'"
   ]
  }
 ],
 "metadata": {
  "kernelspec": {
   "display_name": "Python 3",
   "language": "python",
   "name": "python3"
  },
  "language_info": {
   "codemirror_mode": {
    "name": "ipython",
    "version": 3
   },
   "file_extension": ".py",
   "mimetype": "text/x-python",
   "name": "python",
   "nbconvert_exporter": "python",
   "pygments_lexer": "ipython3",
   "version": "3.8.5"
  }
 },
 "nbformat": 4,
 "nbformat_minor": 4
}
